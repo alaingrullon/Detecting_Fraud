{
 "cells": [
  {
   "cell_type": "code",
   "execution_count": 1,
   "metadata": {
    "id": "mSZ7w6LgT5PT",
    "outputId": "2ff82914-6ce0-4913-d183-d11ebbd1117d"
   },
   "outputs": [
    {
     "data": {
      "text/html": [
       "<style>.container { width:95% !important; }</style>"
      ],
      "text/plain": [
       "<IPython.core.display.HTML object>"
      ]
     },
     "metadata": {},
     "output_type": "display_data"
    }
   ],
   "source": [
    "from IPython.core.display import display, HTML\n",
    "display(HTML(\"<style>.container { width:95% !important; }</style>\"))"
   ]
  },
  {
   "cell_type": "markdown",
   "metadata": {
    "id": "ROsrAsqpT5Pg"
   },
   "source": [
    "\n",
    "\n",
    "<img src=\"profile_manoelgadi.png\" width=100 height=100 align=\"right\">\n",
    "\n",
    "Author: Prof. Manoel Gadi\n",
    "\n",
    "Contact: mfalonso@faculty.ie.edu\n",
    "\n",
    "To compete in this challenge, please create an user at my teaching website: http://mfalonso.pythonanywhere.com\n",
    "\n",
    "Last revision: 09/March/2020"
   ]
  },
  {
   "cell_type": "markdown",
   "metadata": {
    "id": "054Oqm3NT5Ph"
   },
   "source": [
    "Please write your __full__ name below"
   ]
  },
  {
   "cell_type": "markdown",
   "metadata": {
    "id": "z2D5eySaT5Pi"
   },
   "source": [
    "Alain Arturo Grullon Gonzalez"
   ]
  },
  {
   "cell_type": "markdown",
   "metadata": {
    "id": "kfS3eARxT5Pi"
   },
   "source": [
    "---"
   ]
  },
  {
   "cell_type": "markdown",
   "metadata": {
    "id": "twkJCPAcT5Pj"
   },
   "source": [
    "## Fraud detection game starting code...\n",
    "\n",
    "\n",
    "### Importing libraries and datasets"
   ]
  },
  {
   "cell_type": "markdown",
   "metadata": {
    "id": "sW0Id3o0T5Po"
   },
   "source": [
    "## Identifying the types of the variables:\n",
    "\n",
    "* id is a primary key auto incremental\n",
    "*  ib_var_1 is input binary - flag 0/1 variable\n",
    "*  ib_var_2 is input binary - flag 0/1 variable\n",
    "*  ib_var_3 is input binary - flag 0/1 variable\n",
    "*  ib_var_4 is input binary - flag 0/1 variable\n",
    "*  ib_var_5 is input binary - flag 0/1 variable\n",
    "*  ib_var_6 is input binary - flag 0/1 variable\n",
    "*  ib_var_7 is input binary - flag 0/1 variable\n",
    "*  ib_var_8 is input binary - flag 0/1 variable\n",
    "*  ib_var_9 is input binary - flag 0/1 variable\n",
    "*  ib_var_10 is input binary - flag 0/1 variable\n",
    "*  ib_var_11 is input binary - flag 0/1 variable\n",
    "*  ib_var_12 is input binary - flag 0/1 variable\n",
    "*  ib_var_13 is input binary - flag 0/1 variable\n",
    "*  ib_var_14 is input binary - flag 0/1 variable\n",
    "*  ib_var_15 is input binary - flag 0/1 variable\n",
    "*  ib_var_16 is input binary - flag 0/1 variable\n",
    "*  ib_var_17 is input binary - flag 0/1 variable\n",
    "*  ib_var_18 is input binary - flag 0/1 variable\n",
    "*  ib_var_19 is input binary - flag 0/1 variable\n",
    "*  ib_var_20 is input binary - flag 0/1 variable\n",
    "*  ib_var_21 is input binary - flag 0/1 variable\n",
    "*  icn_var_22 is input categorical nominal\n",
    "*  icn_var_23 is input categorical nominal\n",
    "*  icn_var_24 is input categorical nominal\n",
    "*  ico_var_25 is input categorical ordinal\n",
    "*  ico_var_26 is input categorical ordinal\n",
    "*  ico_var_27 is input categorical ordinal\n",
    "*  ico_var_28 is input categorical ordinal\n",
    "*  ico_var_29 is input categorical ordinal\n",
    "*  ico_var_30 is input categorical ordinal\n",
    "*  ico_var_31 is input categorical ordinal\n",
    "*  ico_var_32 is input categorical ordinal\n",
    "*  ico_var_33 is input categorical ordinal\n",
    "*  ico_var_34 is input categorical ordinal\n",
    "*  ico_var_35 is input categorical ordinal\n",
    "*  ico_var_36 is input categorical ordinal\n",
    "*  ico_var_37 is input categorical ordinal\n",
    "*  ico_var_38 is input categorical ordinal\n",
    "*  ico_var_39 is input categorical ordinal\n",
    "*  ico_var_40 is input categorical ordinal\n",
    "*  ico_var_41 is input categorical ordinal\n",
    "*  ico_var_42 is input categorical ordinal\n",
    "*  ico_var_43 is input categorical ordinal\n",
    "*  ico_var_44 is input categorical ordinal\n",
    "*  ico_var_45 is input categorical ordinal\n",
    "*  ico_var_46 is input categorical ordinal\n",
    "*  ico_var_47 is input categorical ordinal\n",
    "*  ico_var_48 is input categorical ordinal\n",
    "*  ico_var_49 is input categorical ordinal\n",
    "*  ico_var_50 is input categorical ordinal\n",
    "*  ico_var_51 is input categorical ordinal\n",
    "*  ico_var_52 is input categorical ordinal\n",
    "*  ico_var_53 is input categorical ordinal\n",
    "*  ico_var_54 is input categorical ordinal\n",
    "*  ico_var_55 is input categorical ordinal\n",
    "*  ico_var_56 is input categorical ordinal\n",
    "*  ico_var_57 is input categorical ordinal\n",
    "*  ico_var_58 is input categorical ordinal\n",
    "*  ico_var_59 is input categorical ordinal\n",
    "*  ico_var_60 is input categorical ordinal\n",
    "*  ico_var_61 is input categorical ordinal\n",
    "*  ico_var_62 is input categorical ordinal\n",
    "*  ico_var_63 is input categorical ordinal\n",
    "*  ico_var_64 is input categorical ordinal\n",
    "*  if_var_65 is input numerical continuos (input float)\n",
    "*  if_var_66 is input numerical continuos (input float)\n",
    "*  if_var_67 is input numerical continuos (input float)\n",
    "*  if_var_68 is input numerical continuos (input float)\n",
    "*  if_var_69 is input numerical continuos (input float)\n",
    "*  if_var_70 is input numerical continuos (input float)\n",
    "*  if_var_71 is input numerical continuos (input float)\n",
    "*  if_var_72 is input numerical continuos (input float)\n",
    "*  if_var_73 is input numerical continuos (input float)\n",
    "*  if_var_74 is input numerical continuos (input float)\n",
    "*  if_var_75 is input numerical continuos (input float)\n",
    "*  if_var_76 is input numerical continuos (input float)\n",
    "*  if_var_77 is input numerical continuos (input float)\n",
    "*  if_var_78 is input numerical continuos (input float)\n",
    "*  if_var_79 is input numerical continuos (input float)\n",
    "*  if_var_80 is input numerical continuos (input float)\n",
    "*  if_var_81 is input numerical continuos (input float)\n",
    "*  ob_target is output binary (target variable: 1 meaning fraud case and 0 non-fraud case)"
   ]
  },
  {
   "cell_type": "code",
   "execution_count": 2,
   "metadata": {
    "id": "8yQFzS-xT5Pj"
   },
   "outputs": [],
   "source": [
    "# Data manipulation\n",
    "import pandas as pd\n",
    "import numpy as np\n",
    "\n",
    "# Plotting\n",
    "import seaborn as sns\n",
    "import matplotlib.pyplot as plt\n",
    "\n",
    "# Machine Learning\n",
    "from sklearn.pipeline import Pipeline\n",
    "from sklearn.model_selection import RandomizedSearchCV, GridSearchCV\n",
    "from sklearn.model_selection import cross_val_score\n",
    "from sklearn.ensemble import RandomForestClassifier\n",
    "from xgboost import XGBClassifier\n",
    "from sklearn import svm\n",
    "from sklearn.linear_model import LogisticRegression\n",
    "from sklearn.inspection import permutation_importance\n",
    "from scipy.stats import uniform, randint\n",
    "from sklearn.metrics import roc_auc_score\n",
    "from sklearn.decomposition import PCA\n",
    "from sklearn.linear_model import ElasticNet\n",
    "from sklearn.linear_model import Lasso"
   ]
  },
  {
   "cell_type": "markdown",
   "metadata": {
    "id": "9tUKauSJT5Pk"
   },
   "source": [
    "### Development sample"
   ]
  },
  {
   "cell_type": "code",
   "execution_count": 5,
   "metadata": {
    "colab": {
     "base_uri": "https://localhost:8080/"
    },
    "id": "1dbPeULfT5Pl",
    "outputId": "cb900a66-a918-49ee-af36-3469ff59f11d"
   },
   "outputs": [
    {
     "name": "stdout",
     "output_type": "stream",
     "text": [
      "LOADING DATASETS...\n"
     ]
    }
   ],
   "source": [
    "print (\"LOADING DATASETS...\")\n",
    "df = pd.read_csv(\"dev.csv\")"
   ]
  },
  {
   "cell_type": "code",
   "execution_count": 6,
   "metadata": {
    "colab": {
     "base_uri": "https://localhost:8080/",
     "height": 253
    },
    "id": "wZcIq6ZuT5Pm",
    "outputId": "d0d4c2b1-2dab-4c8f-f92f-23746c3be49e"
   },
   "outputs": [
    {
     "data": {
      "text/html": [
       "<div>\n",
       "<style scoped>\n",
       "    .dataframe tbody tr th:only-of-type {\n",
       "        vertical-align: middle;\n",
       "    }\n",
       "\n",
       "    .dataframe tbody tr th {\n",
       "        vertical-align: top;\n",
       "    }\n",
       "\n",
       "    .dataframe thead th {\n",
       "        text-align: right;\n",
       "    }\n",
       "</style>\n",
       "<table border=\"1\" class=\"dataframe\">\n",
       "  <thead>\n",
       "    <tr style=\"text-align: right;\">\n",
       "      <th></th>\n",
       "      <th>id</th>\n",
       "      <th>ib_var_1</th>\n",
       "      <th>ib_var_2</th>\n",
       "      <th>ib_var_3</th>\n",
       "      <th>ib_var_4</th>\n",
       "      <th>ib_var_5</th>\n",
       "      <th>ib_var_6</th>\n",
       "      <th>ib_var_7</th>\n",
       "      <th>ib_var_8</th>\n",
       "      <th>ib_var_9</th>\n",
       "      <th>...</th>\n",
       "      <th>if_var_73</th>\n",
       "      <th>if_var_74</th>\n",
       "      <th>if_var_75</th>\n",
       "      <th>if_var_76</th>\n",
       "      <th>if_var_77</th>\n",
       "      <th>if_var_78</th>\n",
       "      <th>if_var_79</th>\n",
       "      <th>if_var_80</th>\n",
       "      <th>if_var_81</th>\n",
       "      <th>ob_target</th>\n",
       "    </tr>\n",
       "  </thead>\n",
       "  <tbody>\n",
       "    <tr>\n",
       "      <th>0</th>\n",
       "      <td>1</td>\n",
       "      <td>0</td>\n",
       "      <td>1</td>\n",
       "      <td>0</td>\n",
       "      <td>0</td>\n",
       "      <td>1</td>\n",
       "      <td>1</td>\n",
       "      <td>0</td>\n",
       "      <td>0</td>\n",
       "      <td>0</td>\n",
       "      <td>...</td>\n",
       "      <td>0.800</td>\n",
       "      <td>0</td>\n",
       "      <td>6</td>\n",
       "      <td>5</td>\n",
       "      <td>0.500000</td>\n",
       "      <td>9.4634</td>\n",
       "      <td>5140.0</td>\n",
       "      <td>0.766667</td>\n",
       "      <td>1</td>\n",
       "      <td>0</td>\n",
       "    </tr>\n",
       "    <tr>\n",
       "      <th>1</th>\n",
       "      <td>2</td>\n",
       "      <td>0</td>\n",
       "      <td>1</td>\n",
       "      <td>0</td>\n",
       "      <td>0</td>\n",
       "      <td>0</td>\n",
       "      <td>1</td>\n",
       "      <td>0</td>\n",
       "      <td>0</td>\n",
       "      <td>0</td>\n",
       "      <td>...</td>\n",
       "      <td>0.925</td>\n",
       "      <td>5</td>\n",
       "      <td>8</td>\n",
       "      <td>5</td>\n",
       "      <td>0.400000</td>\n",
       "      <td>7.6341</td>\n",
       "      <td>2570.0</td>\n",
       "      <td>0.700000</td>\n",
       "      <td>4</td>\n",
       "      <td>0</td>\n",
       "    </tr>\n",
       "    <tr>\n",
       "      <th>2</th>\n",
       "      <td>3</td>\n",
       "      <td>0</td>\n",
       "      <td>0</td>\n",
       "      <td>0</td>\n",
       "      <td>0</td>\n",
       "      <td>1</td>\n",
       "      <td>1</td>\n",
       "      <td>0</td>\n",
       "      <td>0</td>\n",
       "      <td>0</td>\n",
       "      <td>...</td>\n",
       "      <td>0.800</td>\n",
       "      <td>3</td>\n",
       "      <td>10</td>\n",
       "      <td>6</td>\n",
       "      <td>0.700000</td>\n",
       "      <td>11.1707</td>\n",
       "      <td>5140.0</td>\n",
       "      <td>0.666667</td>\n",
       "      <td>2</td>\n",
       "      <td>0</td>\n",
       "    </tr>\n",
       "    <tr>\n",
       "      <th>3</th>\n",
       "      <td>4</td>\n",
       "      <td>0</td>\n",
       "      <td>1</td>\n",
       "      <td>0</td>\n",
       "      <td>1</td>\n",
       "      <td>1</td>\n",
       "      <td>1</td>\n",
       "      <td>0</td>\n",
       "      <td>0</td>\n",
       "      <td>0</td>\n",
       "      <td>...</td>\n",
       "      <td>0.825</td>\n",
       "      <td>5</td>\n",
       "      <td>5</td>\n",
       "      <td>6</td>\n",
       "      <td>0.433333</td>\n",
       "      <td>8.0488</td>\n",
       "      <td>1028.0</td>\n",
       "      <td>0.766667</td>\n",
       "      <td>3</td>\n",
       "      <td>0</td>\n",
       "    </tr>\n",
       "    <tr>\n",
       "      <th>4</th>\n",
       "      <td>5</td>\n",
       "      <td>0</td>\n",
       "      <td>0</td>\n",
       "      <td>0</td>\n",
       "      <td>0</td>\n",
       "      <td>0</td>\n",
       "      <td>1</td>\n",
       "      <td>0</td>\n",
       "      <td>0</td>\n",
       "      <td>0</td>\n",
       "      <td>...</td>\n",
       "      <td>0.800</td>\n",
       "      <td>0</td>\n",
       "      <td>11</td>\n",
       "      <td>5</td>\n",
       "      <td>0.700000</td>\n",
       "      <td>5.5854</td>\n",
       "      <td>5140.0</td>\n",
       "      <td>0.733333</td>\n",
       "      <td>3</td>\n",
       "      <td>0</td>\n",
       "    </tr>\n",
       "  </tbody>\n",
       "</table>\n",
       "<p>5 rows × 83 columns</p>\n",
       "</div>"
      ],
      "text/plain": [
       "   id  ib_var_1  ib_var_2  ib_var_3  ib_var_4  ib_var_5  ib_var_6  ib_var_7  \\\n",
       "0   1         0         1         0         0         1         1         0   \n",
       "1   2         0         1         0         0         0         1         0   \n",
       "2   3         0         0         0         0         1         1         0   \n",
       "3   4         0         1         0         1         1         1         0   \n",
       "4   5         0         0         0         0         0         1         0   \n",
       "\n",
       "   ib_var_8  ib_var_9  ...  if_var_73  if_var_74  if_var_75  if_var_76  \\\n",
       "0         0         0  ...      0.800          0          6          5   \n",
       "1         0         0  ...      0.925          5          8          5   \n",
       "2         0         0  ...      0.800          3         10          6   \n",
       "3         0         0  ...      0.825          5          5          6   \n",
       "4         0         0  ...      0.800          0         11          5   \n",
       "\n",
       "   if_var_77  if_var_78  if_var_79  if_var_80  if_var_81  ob_target  \n",
       "0   0.500000     9.4634     5140.0   0.766667          1          0  \n",
       "1   0.400000     7.6341     2570.0   0.700000          4          0  \n",
       "2   0.700000    11.1707     5140.0   0.666667          2          0  \n",
       "3   0.433333     8.0488     1028.0   0.766667          3          0  \n",
       "4   0.700000     5.5854     5140.0   0.733333          3          0  \n",
       "\n",
       "[5 rows x 83 columns]"
      ]
     },
     "execution_count": 6,
     "metadata": {},
     "output_type": "execute_result"
    }
   ],
   "source": [
    "df.head()"
   ]
  },
  {
   "cell_type": "markdown",
   "metadata": {
    "id": "xcOQCmkKT5Pm"
   },
   "source": [
    "### Out-of-time sample"
   ]
  },
  {
   "cell_type": "code",
   "execution_count": 7,
   "metadata": {
    "id": "OtQb8YFjT5Pn"
   },
   "outputs": [],
   "source": [
    "dfo = pd.read_csv(\"oot0.csv\")"
   ]
  },
  {
   "cell_type": "code",
   "execution_count": 8,
   "metadata": {
    "colab": {
     "base_uri": "https://localhost:8080/",
     "height": 253
    },
    "id": "Gkf45OMxT5Pn",
    "outputId": "4849fc21-916b-4c0f-87b5-65e65d026468"
   },
   "outputs": [
    {
     "data": {
      "text/html": [
       "<div>\n",
       "<style scoped>\n",
       "    .dataframe tbody tr th:only-of-type {\n",
       "        vertical-align: middle;\n",
       "    }\n",
       "\n",
       "    .dataframe tbody tr th {\n",
       "        vertical-align: top;\n",
       "    }\n",
       "\n",
       "    .dataframe thead th {\n",
       "        text-align: right;\n",
       "    }\n",
       "</style>\n",
       "<table border=\"1\" class=\"dataframe\">\n",
       "  <thead>\n",
       "    <tr style=\"text-align: right;\">\n",
       "      <th></th>\n",
       "      <th>id</th>\n",
       "      <th>ib_var_1</th>\n",
       "      <th>ib_var_2</th>\n",
       "      <th>ib_var_3</th>\n",
       "      <th>ib_var_4</th>\n",
       "      <th>ib_var_5</th>\n",
       "      <th>ib_var_6</th>\n",
       "      <th>ib_var_7</th>\n",
       "      <th>ib_var_8</th>\n",
       "      <th>ib_var_9</th>\n",
       "      <th>...</th>\n",
       "      <th>if_var_72</th>\n",
       "      <th>if_var_73</th>\n",
       "      <th>if_var_74</th>\n",
       "      <th>if_var_75</th>\n",
       "      <th>if_var_76</th>\n",
       "      <th>if_var_77</th>\n",
       "      <th>if_var_78</th>\n",
       "      <th>if_var_79</th>\n",
       "      <th>if_var_80</th>\n",
       "      <th>if_var_81</th>\n",
       "    </tr>\n",
       "  </thead>\n",
       "  <tbody>\n",
       "    <tr>\n",
       "      <th>0</th>\n",
       "      <td>1</td>\n",
       "      <td>0</td>\n",
       "      <td>1</td>\n",
       "      <td>0</td>\n",
       "      <td>0</td>\n",
       "      <td>1</td>\n",
       "      <td>0</td>\n",
       "      <td>0</td>\n",
       "      <td>0</td>\n",
       "      <td>0</td>\n",
       "      <td>...</td>\n",
       "      <td>5</td>\n",
       "      <td>0.775</td>\n",
       "      <td>1.0</td>\n",
       "      <td>10.0</td>\n",
       "      <td>11.0</td>\n",
       "      <td>0.666667</td>\n",
       "      <td>NaN</td>\n",
       "      <td>5140.000000</td>\n",
       "      <td>0.666667</td>\n",
       "      <td>3</td>\n",
       "    </tr>\n",
       "    <tr>\n",
       "      <th>1</th>\n",
       "      <td>2</td>\n",
       "      <td>1</td>\n",
       "      <td>0</td>\n",
       "      <td>0</td>\n",
       "      <td>0</td>\n",
       "      <td>1</td>\n",
       "      <td>1</td>\n",
       "      <td>0</td>\n",
       "      <td>0</td>\n",
       "      <td>0</td>\n",
       "      <td>...</td>\n",
       "      <td>6</td>\n",
       "      <td>0.750</td>\n",
       "      <td>0.0</td>\n",
       "      <td>8.0</td>\n",
       "      <td>10.0</td>\n",
       "      <td>0.600000</td>\n",
       "      <td>12.9024</td>\n",
       "      <td>5140.000000</td>\n",
       "      <td>0.733333</td>\n",
       "      <td>0</td>\n",
       "    </tr>\n",
       "    <tr>\n",
       "      <th>2</th>\n",
       "      <td>3</td>\n",
       "      <td>0</td>\n",
       "      <td>0</td>\n",
       "      <td>0</td>\n",
       "      <td>0</td>\n",
       "      <td>1</td>\n",
       "      <td>1</td>\n",
       "      <td>0</td>\n",
       "      <td>0</td>\n",
       "      <td>0</td>\n",
       "      <td>...</td>\n",
       "      <td>7</td>\n",
       "      <td>0.725</td>\n",
       "      <td>0.0</td>\n",
       "      <td>8.0</td>\n",
       "      <td>6.0</td>\n",
       "      <td>0.700000</td>\n",
       "      <td>NaN</td>\n",
       "      <td>2570.000000</td>\n",
       "      <td>0.766667</td>\n",
       "      <td>1</td>\n",
       "    </tr>\n",
       "    <tr>\n",
       "      <th>3</th>\n",
       "      <td>4</td>\n",
       "      <td>0</td>\n",
       "      <td>1</td>\n",
       "      <td>0</td>\n",
       "      <td>1</td>\n",
       "      <td>1</td>\n",
       "      <td>1</td>\n",
       "      <td>0</td>\n",
       "      <td>0</td>\n",
       "      <td>0</td>\n",
       "      <td>...</td>\n",
       "      <td>4</td>\n",
       "      <td>0.925</td>\n",
       "      <td>2.0</td>\n",
       "      <td>7.0</td>\n",
       "      <td>5.0</td>\n",
       "      <td>0.566667</td>\n",
       "      <td>15.5366</td>\n",
       "      <td>2056.000000</td>\n",
       "      <td>0.833333</td>\n",
       "      <td>0</td>\n",
       "    </tr>\n",
       "    <tr>\n",
       "      <th>4</th>\n",
       "      <td>5</td>\n",
       "      <td>1</td>\n",
       "      <td>0</td>\n",
       "      <td>0</td>\n",
       "      <td>1</td>\n",
       "      <td>1</td>\n",
       "      <td>1</td>\n",
       "      <td>0</td>\n",
       "      <td>0</td>\n",
       "      <td>0</td>\n",
       "      <td>...</td>\n",
       "      <td>5</td>\n",
       "      <td>0.925</td>\n",
       "      <td>0.0</td>\n",
       "      <td>10.0</td>\n",
       "      <td>7.0</td>\n",
       "      <td>0.333333</td>\n",
       "      <td>17.8293</td>\n",
       "      <td>4728.799805</td>\n",
       "      <td>0.633333</td>\n",
       "      <td>2</td>\n",
       "    </tr>\n",
       "  </tbody>\n",
       "</table>\n",
       "<p>5 rows × 82 columns</p>\n",
       "</div>"
      ],
      "text/plain": [
       "   id  ib_var_1  ib_var_2  ib_var_3  ib_var_4  ib_var_5  ib_var_6  ib_var_7  \\\n",
       "0   1         0         1         0         0         1         0         0   \n",
       "1   2         1         0         0         0         1         1         0   \n",
       "2   3         0         0         0         0         1         1         0   \n",
       "3   4         0         1         0         1         1         1         0   \n",
       "4   5         1         0         0         1         1         1         0   \n",
       "\n",
       "   ib_var_8  ib_var_9  ...  if_var_72  if_var_73  if_var_74  if_var_75  \\\n",
       "0         0         0  ...          5      0.775        1.0       10.0   \n",
       "1         0         0  ...          6      0.750        0.0        8.0   \n",
       "2         0         0  ...          7      0.725        0.0        8.0   \n",
       "3         0         0  ...          4      0.925        2.0        7.0   \n",
       "4         0         0  ...          5      0.925        0.0       10.0   \n",
       "\n",
       "   if_var_76  if_var_77  if_var_78    if_var_79  if_var_80  if_var_81  \n",
       "0       11.0   0.666667        NaN  5140.000000   0.666667          3  \n",
       "1       10.0   0.600000    12.9024  5140.000000   0.733333          0  \n",
       "2        6.0   0.700000        NaN  2570.000000   0.766667          1  \n",
       "3        5.0   0.566667    15.5366  2056.000000   0.833333          0  \n",
       "4        7.0   0.333333    17.8293  4728.799805   0.633333          2  \n",
       "\n",
       "[5 rows x 82 columns]"
      ]
     },
     "execution_count": 8,
     "metadata": {},
     "output_type": "execute_result"
    }
   ],
   "source": [
    "dfo.head()"
   ]
  },
  {
   "cell_type": "markdown",
   "metadata": {
    "id": "5-ErEvT8T5Pq"
   },
   "source": [
    "## Transformations"
   ]
  },
  {
   "cell_type": "code",
   "execution_count": 9,
   "metadata": {
    "colab": {
     "base_uri": "https://localhost:8080/"
    },
    "id": "t_wwRIjZT5Pq",
    "outputId": "65ccc92e-465b-42c8-b73e-1e0c745d3c82"
   },
   "outputs": [
    {
     "name": "stdout",
     "output_type": "stream",
     "text": [
      "STEP 1: DOING MY TRANSFORMATIONS...\n"
     ]
    },
    {
     "data": {
      "text/plain": [
       "[]"
      ]
     },
     "execution_count": 9,
     "metadata": {},
     "output_type": "execute_result"
    }
   ],
   "source": [
    "print (\"STEP 1: DOING MY TRANSFORMATIONS...\")\n",
    "df.columns[df.isna().any()].tolist()"
   ]
  },
  {
   "cell_type": "code",
   "execution_count": 10,
   "metadata": {
    "colab": {
     "base_uri": "https://localhost:8080/"
    },
    "id": "39S5nUiyT5Pr",
    "outputId": "f208606a-c068-4c96-fdda-2012bb72977e"
   },
   "outputs": [
    {
     "data": {
      "text/plain": [
       "icn_var_22    72\n",
       "icn_var_24    20\n",
       "if_var_78     15\n",
       "ib_var_15      1\n",
       "ib_var_16      1\n",
       "ib_var_17      1\n",
       "ib_var_18      1\n",
       "ib_var_19      1\n",
       "ib_var_20      1\n",
       "ib_var_21      1\n",
       "ico_var_26     1\n",
       "ico_var_33     1\n",
       "ico_var_37     1\n",
       "id             0\n",
       "ib_var_1       0\n",
       "dtype: int64"
      ]
     },
     "execution_count": 10,
     "metadata": {},
     "output_type": "execute_result"
    }
   ],
   "source": [
    "miss_vals = dfo.isna().sum()\n",
    "miss_vals.nlargest(15)"
   ]
  },
  {
   "cell_type": "markdown",
   "metadata": {
    "id": "7eGLMVpaT5Pr"
   },
   "source": [
    "### Build a Correlation Heatmap to understand relationships and impute missing valeus accordingly"
   ]
  },
  {
   "cell_type": "code",
   "execution_count": 11,
   "metadata": {
    "id": "Fb8xoaBAT5Px",
    "scrolled": true
   },
   "outputs": [],
   "source": [
    " corrMatrix = df.corr()\n",
    "# Generate a mask for the upper triangle\n",
    " mask = np.zeros_like(corrMatrix, \n",
    "                      dtype=np.bool)\n",
    " mask[np.triu_indices_from(mask)] = True\n",
    "\n",
    " # Set up the matplotlib figure\n",
    " size = max(20, \n",
    "            len(corrMatrix.columns)/2.,);\n",
    " f, ax = plt.subplots(figsize=(size, size));\n",
    "\n",
    " sns.heatmap(corrMatrix, \n",
    "             mask=mask, \n",
    "             square=True, \n",
    "             linewidths=1.5, \n",
    "            cbar_kws={\"shrink\": 0.5}, \n",
    "             ax=ax,\n",
    "             annot=True)\n",
    " plt.show()"
   ]
  },
  {
   "cell_type": "code",
   "execution_count": 12,
   "metadata": {
    "id": "neqqZtl8T5Py"
   },
   "outputs": [],
   "source": [
    "# imputting missing values for var_22: Notice in heatmap best correlation with 22 is 11, 8, 75, and 76\n",
    "dfo.loc[dfo[\"icn_var_22\"].isnull(), \"icn_var_22\"] = dfo.groupby([\"ib_var_11\", \"ib_var_8\",\"if_var_75\",\"if_var_76\"])[\"icn_var_22\"].transform(\"median\")"
   ]
  },
  {
   "cell_type": "code",
   "execution_count": 13,
   "metadata": {
    "id": "v7LJ6qrnT5Py"
   },
   "outputs": [],
   "source": [
    "# imputting missing values for var_24: Notice in heatmap best correlation with 24 is 81, 65 and 79\n",
    "dfo.loc[dfo[\"icn_var_24\"].isnull(), \"icn_var_24\"] = dfo.groupby([\"if_var_81\", \"icn_var_23\",\"if_var_65\"])[\"icn_var_24\"].transform(\"median\")"
   ]
  },
  {
   "cell_type": "code",
   "execution_count": 14,
   "metadata": {
    "id": "slxhCFP1T5Py"
   },
   "outputs": [],
   "source": [
    "# imputting missing values for var_78: Notice in heatmap best correlation with 78 is 37, 48, 62 and 74\n",
    "dfo.loc[dfo[\"if_var_78\"].isnull(), \"if_var_78\"] = dfo.groupby([\"ico_var_48\",\"ico_var_62\",\"if_var_74\"])[\"if_var_78\"].transform(\"median\")"
   ]
  },
  {
   "cell_type": "code",
   "execution_count": 15,
   "metadata": {
    "colab": {
     "base_uri": "https://localhost:8080/"
    },
    "id": "nHVrlSaHT5Pz",
    "outputId": "4c67ef9d-1d9d-4470-9274-cdb431f52b2d"
   },
   "outputs": [
    {
     "data": {
      "text/plain": [
       "icn_var_22    2\n",
       "icn_var_24    2\n",
       "if_var_78     2\n",
       "ib_var_15     1\n",
       "ib_var_16     1\n",
       "ib_var_17     1\n",
       "ib_var_18     1\n",
       "ib_var_19     1\n",
       "ib_var_20     1\n",
       "ib_var_21     1\n",
       "ico_var_26    1\n",
       "ico_var_33    1\n",
       "ico_var_37    1\n",
       "dtype: int64"
      ]
     },
     "execution_count": 15,
     "metadata": {},
     "output_type": "execute_result"
    }
   ],
   "source": [
    "miss_vals = dfo.isna().sum()\n",
    "miss_vals.nlargest(13)"
   ]
  },
  {
   "cell_type": "code",
   "execution_count": 16,
   "metadata": {
    "id": "sWlaH-vyT5P0"
   },
   "outputs": [],
   "source": [
    "dfo = dfo.fillna(0)"
   ]
  },
  {
   "cell_type": "code",
   "execution_count": 17,
   "metadata": {
    "colab": {
     "base_uri": "https://localhost:8080/"
    },
    "id": "Su2nx5VXT5P4",
    "outputId": "901e396a-eaf0-44ce-be48-5f3bb81d9e9d"
   },
   "outputs": [
    {
     "data": {
      "text/plain": [
       "id           0\n",
       "ib_var_1     0\n",
       "ib_var_2     0\n",
       "ib_var_3     0\n",
       "ib_var_4     0\n",
       "ib_var_5     0\n",
       "ib_var_6     0\n",
       "ib_var_7     0\n",
       "ib_var_8     0\n",
       "ib_var_9     0\n",
       "ib_var_10    0\n",
       "ib_var_11    0\n",
       "ib_var_12    0\n",
       "dtype: int64"
      ]
     },
     "execution_count": 17,
     "metadata": {},
     "output_type": "execute_result"
    }
   ],
   "source": [
    "miss_vals = dfo.isnull().sum()\n",
    "miss_vals.nlargest(13)"
   ]
  },
  {
   "cell_type": "markdown",
   "metadata": {
    "id": "hlf9olVjnH3G"
   },
   "source": [
    "### Data Augmentation"
   ]
  },
  {
   "cell_type": "code",
   "execution_count": 18,
   "metadata": {
    "id": "go9wDP8_nHcJ"
   },
   "outputs": [],
   "source": [
    "df_replicate = df.loc[df[\"ob_target\"]==1,:]\n",
    "df_replicate_2 = df.loc[df[\"ob_target\"]==1,:]\n",
    "df_replicate_3 = df.loc[df[\"ob_target\"]==1,:]\n",
    "df_replicate_4 = df.loc[df[\"ob_target\"]==1,:]\n",
    "df_replicate_5 = df.loc[df[\"ob_target\"]==1,:]\n",
    "df_replicate_6 = df.loc[df[\"ob_target\"]==1,:]\n",
    "df_replicate_7 = df.loc[df[\"ob_target\"]==1,:]\n",
    "df_replicate_8 = df.loc[df[\"ob_target\"]==1,:]"
   ]
  },
  {
   "cell_type": "code",
   "execution_count": 20,
   "metadata": {
    "id": "yJhIz1oIT5P5",
    "scrolled": true
   },
   "outputs": [],
   "source": [
    "df = pd.concat([df,df_replicate,df_replicate_2,df_replicate_3,df_replicate_4,df_replicate_5,df_replicate_6,df_replicate_7,df_replicate_8])"
   ]
  },
  {
   "cell_type": "code",
   "execution_count": 21,
   "metadata": {
    "colab": {
     "base_uri": "https://localhost:8080/"
    },
    "id": "c9LJGnRWT5P4",
    "outputId": "922272a4-a2fa-40cf-858d-0fb6f51b2864"
   },
   "outputs": [
    {
     "data": {
      "text/plain": [
       "1    792\n",
       "0    776\n",
       "Name: ob_target, dtype: int64"
      ]
     },
     "execution_count": 21,
     "metadata": {},
     "output_type": "execute_result"
    }
   ],
   "source": [
    "df[\"ob_target\"].value_counts()"
   ]
  },
  {
   "cell_type": "code",
   "execution_count": 22,
   "metadata": {
    "colab": {
     "base_uri": "https://localhost:8080/"
    },
    "id": "T6z8WXCfT5P5",
    "outputId": "414ad278-45c8-4c71-dd1a-9a881b189f39"
   },
   "outputs": [
    {
     "name": "stdout",
     "output_type": "stream",
     "text": [
      "The dataset's fraud cases are 49.49%\n"
     ]
    }
   ],
   "source": [
    "fraud_percent = round((776/(776+792))*100,2)\n",
    "print(\"The dataset's fraud cases are \" + str(fraud_percent) + \"%\")"
   ]
  },
  {
   "cell_type": "markdown",
   "metadata": {
    "id": "R7-MogjqT5P6"
   },
   "source": [
    "## Feature Selection"
   ]
  },
  {
   "cell_type": "code",
   "execution_count": 38,
   "metadata": {
    "colab": {
     "base_uri": "https://localhost:8080/"
    },
    "id": "IrrV1qgXT5P6",
    "outputId": "55dfcd66-9195-4a36-d271-c48b6d52b0ca"
   },
   "outputs": [
    {
     "name": "stdout",
     "output_type": "stream",
     "text": [
      "STEP 2: SELECTING CHARACTERISTICS TO ENTER INTO THE MODEL...\n"
     ]
    }
   ],
   "source": [
    "print (\"STEP 2: SELECTING CHARACTERISTICS TO ENTER INTO THE MODEL...\")\n",
    "output_var = 'ob_target'\n",
    "\n",
    "X = df.drop(columns=[output_var,\"id\"])\n",
    "y = df[output_var]\n",
    "Xo = dfo.drop(columns=[\"id\"])"
   ]
  },
  {
   "cell_type": "markdown",
   "metadata": {
    "id": "PIAsQoPEz_Tx"
   },
   "source": [
    "### Random Forest for FS"
   ]
  },
  {
   "cell_type": "markdown",
   "metadata": {
    "id": "8CNzvHr1WNDA"
   },
   "source": [
    "In the case of no PCA, put the correct hyperpameters given by the gridsearch in the next section. "
   ]
  },
  {
   "cell_type": "code",
   "execution_count": 39,
   "metadata": {
    "colab": {
     "base_uri": "https://localhost:8080/"
    },
    "id": "HE1jbIHqT5P7",
    "outputId": "28d8267a-f8b9-464e-8cc3-70c97821c4e7"
   },
   "outputs": [
    {
     "data": {
      "text/plain": [
       "RandomForestClassifier(bootstrap=False, max_depth=86, max_features='sqrt',\n",
       "                       min_samples_leaf=4, min_samples_split=23,\n",
       "                       n_estimators=1398, random_state=47)"
      ]
     },
     "execution_count": 39,
     "metadata": {},
     "output_type": "execute_result"
    }
   ],
   "source": [
    "#set and fit the Regressor\n",
    "rf = RandomForestClassifier(bootstrap=False, max_depth=86,\n",
    "                                        max_features='sqrt', min_samples_leaf=4,\n",
    "                                        min_samples_split=23, n_estimators=1398,\n",
    "                                        random_state=47)\n",
    "rf.fit(X, y)"
   ]
  },
  {
   "cell_type": "code",
   "execution_count": 40,
   "metadata": {
    "id": "nXpwTzAcT5P7",
    "scrolled": true
   },
   "outputs": [],
   "source": [
    "#sort the values based on their importance\n",
    "rf_important = pd.Series(rf.feature_importances_, \n",
    "                         index=X.columns,)\n",
    "imp_vars = rf_important.sort_values(ascending=False)\n",
    "top = imp_vars.nlargest(30)"
   ]
  },
  {
   "cell_type": "code",
   "execution_count": 41,
   "metadata": {
    "id": "NqWe5miAT5P8"
   },
   "outputs": [],
   "source": [
    "in_model = []\n",
    "explained_var = []\n",
    "for index, value in top.iteritems():\n",
    "    in_model.append(index)\n",
    "    explained_var.append(value)"
   ]
  },
  {
   "cell_type": "code",
   "execution_count": 42,
   "metadata": {
    "colab": {
     "base_uri": "https://localhost:8080/"
    },
    "id": "t3wX2NvJabaK",
    "outputId": "31dbde9e-fb84-4daa-9bbf-1d447db12b90"
   },
   "outputs": [
    {
     "data": {
      "text/plain": [
       "0.7212602410597752"
      ]
     },
     "execution_count": 42,
     "metadata": {},
     "output_type": "execute_result"
    }
   ],
   "source": [
    "sum(explained_var)"
   ]
  },
  {
   "cell_type": "markdown",
   "metadata": {
    "id": "VhvrsoyoT5P8"
   },
   "source": [
    "## Modelling"
   ]
  },
  {
   "cell_type": "code",
   "execution_count": 43,
   "metadata": {
    "colab": {
     "base_uri": "https://localhost:8080/"
    },
    "id": "BqvLniXtT5P8",
    "outputId": "67159d71-c08d-42d6-c46a-b53c3291962e"
   },
   "outputs": [
    {
     "name": "stdout",
     "output_type": "stream",
     "text": [
      "STEP 3: DEVELOPING THE MODEL...\n"
     ]
    }
   ],
   "source": [
    "print (\"STEP 3: DEVELOPING THE MODEL...\")\n",
    "X = df[in_model]\n",
    "y = df[output_var]\n",
    "Xo = dfo[in_model]"
   ]
  },
  {
   "cell_type": "markdown",
   "metadata": {
    "id": "4e71O9SqT5P9"
   },
   "source": [
    "### PCA on all variables"
   ]
  },
  {
   "cell_type": "code",
   "execution_count": 44,
   "metadata": {
    "id": "HG7Oe62QT5P9"
   },
   "outputs": [],
   "source": [
    "pca = PCA(n_components=3)\n",
    "X_pca = pca.fit_transform(X)"
   ]
  },
  {
   "cell_type": "code",
   "execution_count": null,
   "metadata": {
    "colab": {
     "base_uri": "https://localhost:8080/"
    },
    "id": "3IzZYrubT5P9",
    "outputId": "3d387d11-31c4-440c-df9d-3341dcd26c8d"
   },
   "outputs": [
    {
     "data": {
      "text/plain": [
       "array([0.85232974, 0.09126199, 0.05640452])"
      ]
     },
     "execution_count": 427,
     "metadata": {
      "tags": []
     },
     "output_type": "execute_result"
    }
   ],
   "source": [
    "explained_variance = pca.explained_variance_ratio_\n",
    "explained_variance"
   ]
  },
  {
   "cell_type": "code",
   "execution_count": null,
   "metadata": {
    "id": "LuRltPGNT5P-",
    "outputId": "457d194c-cb78-4189-a68f-5fab6b063d87"
   },
   "outputs": [
    {
     "data": {
      "text/plain": [
       "0.9999956813552571"
      ]
     },
     "execution_count": 24,
     "metadata": {
      "tags": []
     },
     "output_type": "execute_result"
    }
   ],
   "source": [
    "explained_variance.sum()"
   ]
  },
  {
   "cell_type": "code",
   "execution_count": null,
   "metadata": {
    "id": "kV15YM-PT5P_"
   },
   "outputs": [],
   "source": [
    "pca = PCA(n_components=3)\n",
    "Xo_pca = pca.fit_transform(Xo)"
   ]
  },
  {
   "cell_type": "markdown",
   "metadata": {
    "id": "RgmQ--hWT5P_"
   },
   "source": [
    "### Determine the best model to perform a GridSearch on"
   ]
  },
  {
   "cell_type": "code",
   "execution_count": null,
   "metadata": {
    "id": "qfD8xKmQT5P_",
    "outputId": "e6d22835-86c6-4095-daba-7e2d0a23053b",
    "scrolled": true
   },
   "outputs": [
    {
     "name": "stdout",
     "output_type": "stream",
     "text": [
      "AVG RF Roc_Auc of the 10 folds = 0.6016019859769859\n",
      "AVG XGBoost Roc_Auc of the 10 folds = 0.594557178932179\n",
      "AVG Log Reg Roc_Auc of the 10 folds = 0.6257813945313945\n"
     ]
    }
   ],
   "source": [
    "pipe = Pipeline([\n",
    "        ('RF', print(\"AVG RF Roc_Auc of the 10 folds = {}\".format(np.mean\n",
    "                                                            (cross_val_score\n",
    "                                                             (RandomForestClassifier\n",
    "                                                              (random_state=42 , n_jobs= 6), \n",
    "                                                              X, y, cv=10, scoring= 'roc_auc')\n",
    "                                                            )\n",
    "                                                           )\n",
    "                    )\n",
    "        ),\n",
    "        ('XGBoost',  print(\"AVG XGBoost Roc_Auc of the 10 folds = {}\".format(np.mean\n",
    "                                                                      (cross_val_score\n",
    "                                                                       (XGBClassifier\n",
    "                                                                        (objective=\"binary:logistic\", random_state=42), \n",
    "                                                                        X, y, cv=10, scoring = 'roc_auc')\n",
    "                                                                      )\n",
    "                                                                     )\n",
    "                          )\n",
    "        ),\n",
    "        ('LogReg',  print(\"AVG Log Reg Roc_Auc of the 10 folds = {}\".format(np.mean\n",
    "                                                                       (cross_val_score\n",
    "                                                                        (LogisticRegression\n",
    "                                                                         (random_state=0, solver='lbfgs'),\n",
    "                                                                         X, y, cv=10, scoring = 'roc_auc')\n",
    "                                                                       )\n",
    "                                                                      )\n",
    "                          )\n",
    "        ),\n",
    "\n",
    "])"
   ]
  },
  {
   "cell_type": "markdown",
   "metadata": {
    "id": "6wEa64TXWebD"
   },
   "source": [
    "### Perform a GridSearch on the best model: Random Forest Classifier without PCA"
   ]
  },
  {
   "cell_type": "code",
   "execution_count": 45,
   "metadata": {
    "colab": {
     "base_uri": "https://localhost:8080/"
    },
    "id": "e7PPvXU3WebS",
    "outputId": "ef1bb477-e142-48bd-ea39-fbd87673ed34",
    "scrolled": false
   },
   "outputs": [
    {
     "name": "stdout",
     "output_type": "stream",
     "text": [
      "Randomized Search Finished\n"
     ]
    }
   ],
   "source": [
    "RF_pipe = Pipeline(steps = [ ('RF', RandomForestClassifier()) ])\n",
    "\n",
    "params = {\n",
    "    'RF__bootstrap':         [True, False],\n",
    "    'RF__max_depth':         randint(0,100),\n",
    "    'RF__max_features':      ['sqrt', 'log2'],\n",
    "    'RF__min_samples_leaf':  randint(0,30),\n",
    "    'RF__min_samples_split': randint(0,30),\n",
    "    'RF__n_estimators':      randint(0,1500),\n",
    "    'RF__random_state':      [42,1,3,5,7,9,11,13,15,21,41,47,91]\n",
    "}\n",
    "# Create a grid search to try all the possible number of PCs\n",
    "estimator = RandomizedSearchCV(RF_pipe, \n",
    "                               params, \n",
    "                               cv=5, \n",
    "                               n_iter=20, \n",
    "                               n_jobs=-1, \n",
    "                               scoring = 'roc_auc')\n",
    "\n",
    "estimator.fit(X, y)\n",
    "print(\"Randomized Search Finished\")"
   ]
  },
  {
   "cell_type": "markdown",
   "metadata": {
    "id": "q3c4fA1gT5QA"
   },
   "source": [
    "### Perform a GridSearch on the best model: Random Forest Classifier with PCA"
   ]
  },
  {
   "cell_type": "code",
   "execution_count": null,
   "metadata": {
    "colab": {
     "base_uri": "https://localhost:8080/"
    },
    "id": "rNfdUEZBT5QB",
    "outputId": "0a2e68f1-2803-404c-9c61-9f9b74f5baf9",
    "scrolled": false
   },
   "outputs": [
    {
     "name": "stdout",
     "output_type": "stream",
     "text": [
      "Randomized Search Finished\n"
     ]
    }
   ],
   "source": [
    "RF_pipe = Pipeline(steps = [ ('pca', PCA(random_state=42) ), ('RF', RandomForestClassifier(random_state=42)) ])\n",
    "\n",
    "params = {\n",
    "    'RF__bootstrap':         [True, False],\n",
    "    'RF__max_depth':         randint(0,10),\n",
    "    'RF__max_features':      ['sqrt', 'log2'],\n",
    "    'RF__min_samples_leaf':  randint(0,30),\n",
    "    'RF__min_samples_split': randint(0,30),\n",
    "    'RF__n_estimators':      randint(0,500),\n",
    "    'RF__random_state':      [42,1,3,5,7,9,11]\n",
    "}\n",
    "# Create a grid search to try all the possible number of PCs\n",
    "estimator = RandomizedSearchCV(RF_pipe, \n",
    "                               params, \n",
    "                               cv=5, \n",
    "                               n_iter=20, \n",
    "                               n_jobs=-1, \n",
    "                               scoring = 'roc_auc')\n",
    "\n",
    "estimator.fit(X, y)\n",
    "print(\"Randomized Search Finished\")"
   ]
  },
  {
   "cell_type": "code",
   "execution_count": 47,
   "metadata": {
    "id": "sropQ5QzT5QB"
   },
   "outputs": [],
   "source": [
    "pred_dev = estimator.predict_proba(X)[:,1]\n",
    "pred_oot = estimator.predict_proba(Xo)[:,1]"
   ]
  },
  {
   "cell_type": "code",
   "execution_count": 46,
   "metadata": {
    "colab": {
     "base_uri": "https://localhost:8080/"
    },
    "id": "gNJsTxeIT5QC",
    "outputId": "786db3cb-57a7-4ff8-96c8-0ea9e1fcd5d1"
   },
   "outputs": [
    {
     "data": {
      "text/plain": [
       "Pipeline(steps=[('RF',\n",
       "                 RandomForestClassifier(bootstrap=False, max_depth=97,\n",
       "                                        max_features='sqrt', min_samples_leaf=3,\n",
       "                                        min_samples_split=10, n_estimators=1379,\n",
       "                                        random_state=15))])"
      ]
     },
     "execution_count": 46,
     "metadata": {},
     "output_type": "execute_result"
    }
   ],
   "source": [
    "estimator.best_estimator_"
   ]
  },
  {
   "cell_type": "code",
   "execution_count": null,
   "metadata": {
    "id": "IPiq8gvPT5QC"
   },
   "outputs": [],
   "source": [
    "# put the right parameters inside the Classifier\n",
    "clf = RandomForestClassifier(bootstrap=False, \n",
    "                             max_depth=29, \n",
    "                             max_features='log2',\n",
    "                             min_samples_leaf=28,\n",
    "                             n_estimators=162,\n",
    "                             random_state=42)\n",
    "\n",
    "fitted_model = clf.fit(X, y)\n",
    "pred_dev = fitted_model.predict_proba(X)[:,1]\n",
    "pred_oot  = fitted_model.predict_proba(Xo)[:,1]"
   ]
  },
  {
   "cell_type": "markdown",
   "metadata": {
    "id": "Cr0ucmtZT5QE"
   },
   "source": [
    "## Assessing Model"
   ]
  },
  {
   "cell_type": "code",
   "execution_count": 48,
   "metadata": {
    "colab": {
     "base_uri": "https://localhost:8080/"
    },
    "id": "qGtArBgHT5QE",
    "outputId": "50ee52d9-4464-4dde-af7b-f8df32b2a56a"
   },
   "outputs": [
    {
     "name": "stdout",
     "output_type": "stream",
     "text": [
      "STEP 4: ASSESSING THE MODEL...\n",
      "GINI DEVELOPMENT= 1.0\n",
      "KS DEVELOPMENT= 0.9999999999999968\n"
     ]
    }
   ],
   "source": [
    "print (\"STEP 4: ASSESSING THE MODEL...\")\n",
    "# CALCULATING GINI PERFORMANCE ON DEVELOPMENT SAMPLE\n",
    "gini_score = 2*roc_auc_score(y, pred_dev)-1\n",
    "print (\"GINI DEVELOPMENT=\", gini_score)\n",
    "\n",
    "def KS(b,a):  \n",
    "    \"\"\"Function that received two parameters; first: a binary variable representing 0=good and 1=bad, \n",
    "    and then a second variable with the prediction of the first variable, the second variable can be continuous, \n",
    "    integer or binary - continuous is better. Finally, the function returns the KS Statistics of the two lists.\"\"\"\n",
    "    try:\n",
    "        tot_bads=1.0*sum(b)\n",
    "        tot_goods=1.0*(len(b)-tot_bads)\n",
    "        elements = zip(*[a,b])\n",
    "        elements = sorted(elements,key= lambda x: x[0])\n",
    "        elements_df = pd.DataFrame({'probability': b,'gbi': a})\n",
    "        pivot_elements_df = pd.pivot_table(elements_df, values='probability', index=['gbi'], aggfunc=[sum,len]).fillna(0)\n",
    "        max_ks = perc_goods = perc_bads = cum_perc_bads = cum_perc_goods = 0\n",
    "        for i in range(len(pivot_elements_df)):\n",
    "            perc_goods =  (pivot_elements_df.iloc[i]['len'] - pivot_elements_df.iloc[i]['sum']) / tot_goods\n",
    "            perc_bads = pivot_elements_df.iloc[i]['sum']/ tot_bads\n",
    "            cum_perc_goods += perc_goods\n",
    "            cum_perc_bads += perc_bads\n",
    "            A = cum_perc_bads-cum_perc_goods\n",
    "            if abs(A['probability']) > max_ks:\n",
    "                max_ks = abs(A['probability'])\n",
    "    except:\n",
    "        max_ks = 0\n",
    "    return max_ks\n",
    "\n",
    "\n",
    "KS_score = KS(y,pred_dev)\n",
    "print (\"KS DEVELOPMENT=\", KS_score)"
   ]
  },
  {
   "cell_type": "markdown",
   "metadata": {
    "id": "AA0-GFZRT5QF"
   },
   "source": [
    "What is GINI and KS?\n",
    "* watch this video for reference: https://youtu.be/MiBUBVUC8kE"
   ]
  },
  {
   "cell_type": "code",
   "execution_count": null,
   "metadata": {
    "id": "V_V5S61cT5QF"
   },
   "outputs": [],
   "source": []
  },
  {
   "cell_type": "markdown",
   "metadata": {
    "id": "vao4lRNwT5QF"
   },
   "source": [
    "## Submitting the Results"
   ]
  },
  {
   "cell_type": "code",
   "execution_count": 51,
   "metadata": {
    "colab": {
     "base_uri": "https://localhost:8080/"
    },
    "id": "yD9tOAGjT5QG",
    "outputId": "bd7f774c-409e-461a-b636-e3c15e381c62"
   },
   "outputs": [
    {
     "name": "stdout",
     "output_type": "stream",
     "text": [
      "STEP 5: SUBMITTING THE RESULTS...\n"
     ]
    }
   ],
   "source": [
    "print (\"STEP 5: SUBMITTING THE RESULTS...\")\n",
    "import requests\n",
    "from requests.auth import HTTPBasicAuth\n",
    "dfo['pred'] = pred_oot\n",
    "dfo_tosend = dfo[list(['id','pred'])]\n",
    "\n",
    "i=1\n",
    "filename = \"alain_grullon_sub\"+str(i)+\".csv\"\n",
    "dfo_tosend.to_csv(filename, sep=',')\n",
    "\n",
    "url = 'http://mfalonso.pythonanywhere.com/api/v1.0/uploadpredictions'"
   ]
  },
  {
   "cell_type": "markdown",
   "metadata": {
    "id": "xSoPJTDgT5QG"
   },
   "source": [
    "To compete in this challenge, please create an user at my teaching website: http://mfalonso.pythonanywhere.com\n",
    "and replace below where it says:\n",
    "* alain.grullon\n",
    "* renega11"
   ]
  },
  {
   "cell_type": "code",
   "execution_count": 50,
   "metadata": {
    "colab": {
     "base_uri": "https://localhost:8080/"
    },
    "id": "2WnZBt1-T5QG",
    "outputId": "6d33b4a0-6c82-424b-fc0b-3c68e4c03ead"
   },
   "outputs": [
    {
     "name": "stdout",
     "output_type": "stream",
     "text": [
      "RESULT SUBMISSION:  Thank you for trying to participate; unfortunately the game has finished. It started 2021-01-09 and has run for 16 days.\n"
     ]
    }
   ],
   "source": [
    "files = {'file': (filename, open(filename, 'rb'))}\n",
    "rsub = requests.post(url, files=files, auth=HTTPBasicAuth('alain.grullon', 'renega11'))\n",
    "\n",
    "resp_str = str(rsub.text)\n",
    "print (\"RESULT SUBMISSION: \", resp_str)"
   ]
  },
  {
   "cell_type": "code",
   "execution_count": null,
   "metadata": {
    "id": "KeHJeqFsT5QH"
   },
   "outputs": [],
   "source": []
  }
 ],
 "metadata": {
  "accelerator": "GPU",
  "colab": {
   "name": "fraud_detection_game_alain_grullon.ipynb",
   "provenance": []
  },
  "kernelspec": {
   "display_name": "Python 3",
   "language": "python",
   "name": "python3"
  },
  "language_info": {
   "codemirror_mode": {
    "name": "ipython",
    "version": 3
   },
   "file_extension": ".py",
   "mimetype": "text/x-python",
   "name": "python",
   "nbconvert_exporter": "python",
   "pygments_lexer": "ipython3",
   "version": "3.8.3"
  }
 },
 "nbformat": 4,
 "nbformat_minor": 1
}
